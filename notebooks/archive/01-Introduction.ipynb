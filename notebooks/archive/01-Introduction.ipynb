{
 "cells": [
  {
   "cell_type": "code",
   "execution_count": 1,
   "metadata": {},
   "outputs": [
    {
     "name": "stdout",
     "output_type": "stream",
     "text": [
      "Requirement already satisfied: semantic-kernel==0.9.4b1 in c:\\users\\ar002288\\appdata\\local\\programs\\python\\python312\\lib\\site-packages (0.9.4b1)\n",
      "Requirement already satisfied: aiohttp<4.0,>=3.8 in c:\\users\\ar002288\\appdata\\local\\programs\\python\\python312\\lib\\site-packages (from semantic-kernel==0.9.4b1) (3.9.3)\n",
      "Requirement already satisfied: defusedxml<0.8.0,>=0.7.1 in c:\\users\\ar002288\\appdata\\local\\programs\\python\\python312\\lib\\site-packages (from semantic-kernel==0.9.4b1) (0.7.1)\n",
      "Requirement already satisfied: grpcio>=1.50.0 in c:\\users\\ar002288\\appdata\\local\\programs\\python\\python312\\lib\\site-packages (from semantic-kernel==0.9.4b1) (1.62.1)\n",
      "Requirement already satisfied: jinja2<4.0.0,>=3.1.3 in c:\\users\\ar002288\\appdata\\local\\programs\\python\\python312\\lib\\site-packages (from semantic-kernel==0.9.4b1) (3.1.3)\n",
      "Requirement already satisfied: motor<4.0.0,>=3.3.2 in c:\\users\\ar002288\\appdata\\local\\programs\\python\\python312\\lib\\site-packages (from semantic-kernel==0.9.4b1) (3.4.0)\n",
      "Requirement already satisfied: nest-asyncio<2.0.0,>=1.6.0 in c:\\users\\ar002288\\appdata\\local\\programs\\python\\python312\\lib\\site-packages (from semantic-kernel==0.9.4b1) (1.6.0)\n",
      "Requirement already satisfied: numpy>=1.26 in c:\\users\\ar002288\\appdata\\local\\programs\\python\\python312\\lib\\site-packages (from semantic-kernel==0.9.4b1) (1.26.2)\n",
      "Requirement already satisfied: openai>=1.0 in c:\\users\\ar002288\\appdata\\local\\programs\\python\\python312\\lib\\site-packages (from semantic-kernel==0.9.4b1) (1.14.3)\n",
      "Requirement already satisfied: openapi_core<0.20,>=0.18 in c:\\users\\ar002288\\appdata\\local\\programs\\python\\python312\\lib\\site-packages (from semantic-kernel==0.9.4b1) (0.19.0)\n",
      "Requirement already satisfied: prance<24.0.0.0,>=23.6.21.0 in c:\\users\\ar002288\\appdata\\local\\programs\\python\\python312\\lib\\site-packages (from semantic-kernel==0.9.4b1) (23.6.21.0)\n",
      "Requirement already satisfied: pybars4<0.10.0,>=0.9.13 in c:\\users\\ar002288\\appdata\\local\\programs\\python\\python312\\lib\\site-packages (from semantic-kernel==0.9.4b1) (0.9.13)\n",
      "Requirement already satisfied: pydantic<3,>=2 in c:\\users\\ar002288\\appdata\\local\\programs\\python\\python312\\lib\\site-packages (from semantic-kernel==0.9.4b1) (2.6.4)\n",
      "Requirement already satisfied: python-dotenv<2.0.0,>=1.0.1 in c:\\users\\ar002288\\appdata\\local\\programs\\python\\python312\\lib\\site-packages (from semantic-kernel==0.9.4b1) (1.0.1)\n",
      "Requirement already satisfied: regex<2024.0.0,>=2023.6.3 in c:\\users\\ar002288\\appdata\\local\\programs\\python\\python312\\lib\\site-packages (from semantic-kernel==0.9.4b1) (2023.12.25)\n",
      "Requirement already satisfied: scipy>=1.12.0 in c:\\users\\ar002288\\appdata\\local\\programs\\python\\python312\\lib\\site-packages (from semantic-kernel==0.9.4b1) (1.12.0)\n",
      "Requirement already satisfied: aiosignal>=1.1.2 in c:\\users\\ar002288\\appdata\\local\\programs\\python\\python312\\lib\\site-packages (from aiohttp<4.0,>=3.8->semantic-kernel==0.9.4b1) (1.3.1)\n",
      "Requirement already satisfied: attrs>=17.3.0 in c:\\users\\ar002288\\appdata\\local\\programs\\python\\python312\\lib\\site-packages (from aiohttp<4.0,>=3.8->semantic-kernel==0.9.4b1) (23.2.0)\n",
      "Requirement already satisfied: frozenlist>=1.1.1 in c:\\users\\ar002288\\appdata\\local\\programs\\python\\python312\\lib\\site-packages (from aiohttp<4.0,>=3.8->semantic-kernel==0.9.4b1) (1.4.1)\n",
      "Requirement already satisfied: multidict<7.0,>=4.5 in c:\\users\\ar002288\\appdata\\local\\programs\\python\\python312\\lib\\site-packages (from aiohttp<4.0,>=3.8->semantic-kernel==0.9.4b1) (6.0.5)\n",
      "Requirement already satisfied: yarl<2.0,>=1.0 in c:\\users\\ar002288\\appdata\\local\\programs\\python\\python312\\lib\\site-packages (from aiohttp<4.0,>=3.8->semantic-kernel==0.9.4b1) (1.9.4)\n",
      "Requirement already satisfied: MarkupSafe>=2.0 in c:\\users\\ar002288\\appdata\\local\\programs\\python\\python312\\lib\\site-packages (from jinja2<4.0.0,>=3.1.3->semantic-kernel==0.9.4b1) (2.1.3)\n",
      "Requirement already satisfied: pymongo<5,>=4.5 in c:\\users\\ar002288\\appdata\\local\\programs\\python\\python312\\lib\\site-packages (from motor<4.0.0,>=3.3.2->semantic-kernel==0.9.4b1) (4.6.3)\n",
      "Requirement already satisfied: anyio<5,>=3.5.0 in c:\\users\\ar002288\\appdata\\local\\programs\\python\\python312\\lib\\site-packages (from openai>=1.0->semantic-kernel==0.9.4b1) (4.2.0)\n",
      "Requirement already satisfied: distro<2,>=1.7.0 in c:\\users\\ar002288\\appdata\\local\\programs\\python\\python312\\lib\\site-packages (from openai>=1.0->semantic-kernel==0.9.4b1) (1.9.0)\n",
      "Requirement already satisfied: httpx<1,>=0.23.0 in c:\\users\\ar002288\\appdata\\local\\programs\\python\\python312\\lib\\site-packages (from openai>=1.0->semantic-kernel==0.9.4b1) (0.27.0)\n",
      "Requirement already satisfied: sniffio in c:\\users\\ar002288\\appdata\\local\\programs\\python\\python312\\lib\\site-packages (from openai>=1.0->semantic-kernel==0.9.4b1) (1.3.0)\n",
      "Requirement already satisfied: tqdm>4 in c:\\users\\ar002288\\appdata\\local\\programs\\python\\python312\\lib\\site-packages (from openai>=1.0->semantic-kernel==0.9.4b1) (4.66.2)\n",
      "Requirement already satisfied: typing-extensions<5,>=4.7 in c:\\users\\ar002288\\appdata\\local\\programs\\python\\python312\\lib\\site-packages (from openai>=1.0->semantic-kernel==0.9.4b1) (4.10.0)\n",
      "Requirement already satisfied: isodate in c:\\users\\ar002288\\appdata\\local\\programs\\python\\python312\\lib\\site-packages (from openapi_core<0.20,>=0.18->semantic-kernel==0.9.4b1) (0.6.1)\n",
      "Requirement already satisfied: jsonschema<5.0.0,>=4.18.0 in c:\\users\\ar002288\\appdata\\local\\programs\\python\\python312\\lib\\site-packages (from openapi_core<0.20,>=0.18->semantic-kernel==0.9.4b1) (4.20.0)\n",
      "Requirement already satisfied: jsonschema-path<0.4.0,>=0.3.1 in c:\\users\\ar002288\\appdata\\local\\programs\\python\\python312\\lib\\site-packages (from openapi_core<0.20,>=0.18->semantic-kernel==0.9.4b1) (0.3.2)\n",
      "Requirement already satisfied: more-itertools in c:\\users\\ar002288\\appdata\\local\\programs\\python\\python312\\lib\\site-packages (from openapi_core<0.20,>=0.18->semantic-kernel==0.9.4b1) (10.2.0)\n",
      "Requirement already satisfied: openapi-schema-validator<0.7.0,>=0.6.0 in c:\\users\\ar002288\\appdata\\local\\programs\\python\\python312\\lib\\site-packages (from openapi_core<0.20,>=0.18->semantic-kernel==0.9.4b1) (0.6.2)\n",
      "Requirement already satisfied: openapi-spec-validator<0.8.0,>=0.7.1 in c:\\users\\ar002288\\appdata\\local\\programs\\python\\python312\\lib\\site-packages (from openapi_core<0.20,>=0.18->semantic-kernel==0.9.4b1) (0.7.1)\n",
      "Requirement already satisfied: parse in c:\\users\\ar002288\\appdata\\local\\programs\\python\\python312\\lib\\site-packages (from openapi_core<0.20,>=0.18->semantic-kernel==0.9.4b1) (1.20.1)\n",
      "Requirement already satisfied: werkzeug in c:\\users\\ar002288\\appdata\\local\\programs\\python\\python312\\lib\\site-packages (from openapi_core<0.20,>=0.18->semantic-kernel==0.9.4b1) (3.0.1)\n",
      "Requirement already satisfied: chardet>=3.0 in c:\\users\\ar002288\\appdata\\local\\programs\\python\\python312\\lib\\site-packages (from prance<24.0.0.0,>=23.6.21.0->semantic-kernel==0.9.4b1) (5.2.0)\n",
      "Requirement already satisfied: ruamel.yaml>=0.17.10 in c:\\users\\ar002288\\appdata\\local\\programs\\python\\python312\\lib\\site-packages (from prance<24.0.0.0,>=23.6.21.0->semantic-kernel==0.9.4b1) (0.18.6)\n",
      "Requirement already satisfied: requests>=2.25 in c:\\users\\ar002288\\appdata\\local\\programs\\python\\python312\\lib\\site-packages (from prance<24.0.0.0,>=23.6.21.0->semantic-kernel==0.9.4b1) (2.31.0)\n",
      "Requirement already satisfied: six~=1.15 in d:\\users\\ar002288\\appdata\\roaming\\python\\python312\\site-packages (from prance<24.0.0.0,>=23.6.21.0->semantic-kernel==0.9.4b1) (1.16.0)\n",
      "Requirement already satisfied: packaging>=21.3 in d:\\users\\ar002288\\appdata\\roaming\\python\\python312\\site-packages (from prance<24.0.0.0,>=23.6.21.0->semantic-kernel==0.9.4b1) (23.2)\n",
      "Requirement already satisfied: PyMeta3>=0.5.1 in c:\\users\\ar002288\\appdata\\local\\programs\\python\\python312\\lib\\site-packages (from pybars4<0.10.0,>=0.9.13->semantic-kernel==0.9.4b1) (0.5.1)\n",
      "Requirement already satisfied: annotated-types>=0.4.0 in c:\\users\\ar002288\\appdata\\local\\programs\\python\\python312\\lib\\site-packages (from pydantic<3,>=2->semantic-kernel==0.9.4b1) (0.6.0)\n",
      "Requirement already satisfied: pydantic-core==2.16.3 in c:\\users\\ar002288\\appdata\\local\\programs\\python\\python312\\lib\\site-packages (from pydantic<3,>=2->semantic-kernel==0.9.4b1) (2.16.3)\n",
      "Requirement already satisfied: idna>=2.8 in c:\\users\\ar002288\\appdata\\local\\programs\\python\\python312\\lib\\site-packages (from anyio<5,>=3.5.0->openai>=1.0->semantic-kernel==0.9.4b1) (3.6)\n",
      "Requirement already satisfied: certifi in c:\\users\\ar002288\\appdata\\local\\programs\\python\\python312\\lib\\site-packages (from httpx<1,>=0.23.0->openai>=1.0->semantic-kernel==0.9.4b1) (2023.11.17)\n",
      "Requirement already satisfied: httpcore==1.* in c:\\users\\ar002288\\appdata\\local\\programs\\python\\python312\\lib\\site-packages (from httpx<1,>=0.23.0->openai>=1.0->semantic-kernel==0.9.4b1) (1.0.5)\n",
      "Requirement already satisfied: h11<0.15,>=0.13 in c:\\users\\ar002288\\appdata\\local\\programs\\python\\python312\\lib\\site-packages (from httpcore==1.*->httpx<1,>=0.23.0->openai>=1.0->semantic-kernel==0.9.4b1) (0.14.0)\n",
      "Requirement already satisfied: jsonschema-specifications>=2023.03.6 in c:\\users\\ar002288\\appdata\\local\\programs\\python\\python312\\lib\\site-packages (from jsonschema<5.0.0,>=4.18.0->openapi_core<0.20,>=0.18->semantic-kernel==0.9.4b1) (2023.12.1)\n",
      "Requirement already satisfied: referencing>=0.28.4 in c:\\users\\ar002288\\appdata\\local\\programs\\python\\python312\\lib\\site-packages (from jsonschema<5.0.0,>=4.18.0->openapi_core<0.20,>=0.18->semantic-kernel==0.9.4b1) (0.31.1)\n",
      "Requirement already satisfied: rpds-py>=0.7.1 in c:\\users\\ar002288\\appdata\\local\\programs\\python\\python312\\lib\\site-packages (from jsonschema<5.0.0,>=4.18.0->openapi_core<0.20,>=0.18->semantic-kernel==0.9.4b1) (0.16.2)\n",
      "Requirement already satisfied: PyYAML>=5.1 in c:\\users\\ar002288\\appdata\\local\\programs\\python\\python312\\lib\\site-packages (from jsonschema-path<0.4.0,>=0.3.1->openapi_core<0.20,>=0.18->semantic-kernel==0.9.4b1) (6.0.1)\n",
      "Requirement already satisfied: pathable<0.5.0,>=0.4.1 in c:\\users\\ar002288\\appdata\\local\\programs\\python\\python312\\lib\\site-packages (from jsonschema-path<0.4.0,>=0.3.1->openapi_core<0.20,>=0.18->semantic-kernel==0.9.4b1) (0.4.3)\n",
      "Requirement already satisfied: rfc3339-validator in c:\\users\\ar002288\\appdata\\local\\programs\\python\\python312\\lib\\site-packages (from openapi-schema-validator<0.7.0,>=0.6.0->openapi_core<0.20,>=0.18->semantic-kernel==0.9.4b1) (0.1.4)\n",
      "Requirement already satisfied: lazy-object-proxy<2.0.0,>=1.7.1 in c:\\users\\ar002288\\appdata\\local\\programs\\python\\python312\\lib\\site-packages (from openapi-spec-validator<0.8.0,>=0.7.1->openapi_core<0.20,>=0.18->semantic-kernel==0.9.4b1) (1.10.0)\n",
      "Requirement already satisfied: dnspython<3.0.0,>=1.16.0 in c:\\users\\ar002288\\appdata\\local\\programs\\python\\python312\\lib\\site-packages (from pymongo<5,>=4.5->motor<4.0.0,>=3.3.2->semantic-kernel==0.9.4b1) (2.6.1)\n",
      "Requirement already satisfied: charset-normalizer<4,>=2 in c:\\users\\ar002288\\appdata\\local\\programs\\python\\python312\\lib\\site-packages (from requests>=2.25->prance<24.0.0.0,>=23.6.21.0->semantic-kernel==0.9.4b1) (3.3.2)\n",
      "Requirement already satisfied: urllib3<3,>=1.21.1 in c:\\users\\ar002288\\appdata\\local\\programs\\python\\python312\\lib\\site-packages (from requests>=2.25->prance<24.0.0.0,>=23.6.21.0->semantic-kernel==0.9.4b1) (2.1.0)\n",
      "Requirement already satisfied: ruamel.yaml.clib>=0.2.7 in c:\\users\\ar002288\\appdata\\local\\programs\\python\\python312\\lib\\site-packages (from ruamel.yaml>=0.17.10->prance<24.0.0.0,>=23.6.21.0->semantic-kernel==0.9.4b1) (0.2.8)\n",
      "Requirement already satisfied: colorama in d:\\users\\ar002288\\appdata\\roaming\\python\\python312\\site-packages (from tqdm>4->openai>=1.0->semantic-kernel==0.9.4b1) (0.4.6)\n"
     ]
    },
    {
     "name": "stderr",
     "output_type": "stream",
     "text": [
      "\n",
      "[notice] A new release of pip is available: 23.3.2 -> 24.2\n",
      "[notice] To update, run: python.exe -m pip install --upgrade pip\n"
     ]
    }
   ],
   "source": [
    "!python -m pip install semantic-kernel==0.9.4b1"
   ]
  },
  {
   "cell_type": "code",
   "execution_count": 1,
   "metadata": {},
   "outputs": [],
   "source": [
    "import semantic_kernel as sk\n",
    "\n",
    "kernel = sk.Kernel()"
   ]
  },
  {
   "cell_type": "code",
   "execution_count": 2,
   "metadata": {},
   "outputs": [],
   "source": [
    "from services import Service\n",
    "\n",
    "# Select a service to use for this notebook (available services: OpenAI, AzureOpenAI, HuggingFace)\n",
    "selectedService = Service.AzureOpenAI"
   ]
  },
  {
   "cell_type": "code",
   "execution_count": 3,
   "metadata": {},
   "outputs": [],
   "source": [
    "kernel = sk.Kernel()\n",
    "\n",
    "service_id = None\n",
    "if selectedService == Service.OpenAI:\n",
    "    from semantic_kernel.connectors.ai.open_ai import OpenAIChatCompletion\n",
    "\n",
    "    api_key, org_id = sk.openai_settings_from_dot_env()\n",
    "    service_id = \"gpt4-32k\"\n",
    "    kernel.add_service(\n",
    "        OpenAIChatCompletion(service_id=service_id, ai_model_id=\"gpt4-32k\", api_key=api_key, org_id=org_id),\n",
    "    )\n",
    "elif selectedService == Service.AzureOpenAI:\n",
    "    from semantic_kernel.connectors.ai.open_ai import AzureChatCompletion\n",
    "\n",
    "    deployment, api_key, endpoint = sk.azure_openai_settings_from_dot_env()\n",
    "    service_id = \"aoai_chat_completion\"\n",
    "    kernel.add_service(\n",
    "        AzureChatCompletion(service_id=service_id, deployment_name=deployment, endpoint=endpoint, api_key=api_key),\n",
    "    )"
   ]
  },
  {
   "cell_type": "code",
   "execution_count": 4,
   "metadata": {},
   "outputs": [],
   "source": [
    "# note: using plugins from the samples folder\n",
    "plugins_directory = \"plugins\"\n",
    "\n",
    "dataFunctions = kernel.import_plugin_from_prompt_directory(plugins_directory, \"DataPlugin\")\n",
    "\n",
    "descriptorFunction = dataFunctions[\"DatabaseDescriptor\"]"
   ]
  },
  {
   "cell_type": "code",
   "execution_count": 5,
   "metadata": {},
   "outputs": [],
   "source": [
    "def read_data_schema_from_file(file_path):\n",
    "    with open(file_path, 'r') as file:\n",
    "        data_schema = file.read()\n",
    "    return data_schema\n",
    "\n",
    "file_path = \"data_schema.txt\"\n",
    "data_schema = read_data_schema_from_file(file_path)\n"
   ]
  },
  {
   "cell_type": "code",
   "execution_count": 6,
   "metadata": {},
   "outputs": [
    {
     "name": "stderr",
     "output_type": "stream",
     "text": [
      "Variable `Symbols.VAR_PREFIX: save_plot_to_disk` not found in the KernelArguments\n"
     ]
    },
    {
     "name": "stdout",
     "output_type": "stream",
     "text": [
      "<sql>\n",
      "SELECT p.product_name, SUM(oi.quantity) AS total_quantity_sold\n",
      "FROM order_items oi\n",
      "JOIN products p ON oi.product_id = p.product_id\n",
      "JOIN orders o ON oi.order_id = o.order_id\n",
      "WHERE strftime('%Y', o.order_date) = '2024'\n",
      "GROUP BY p.product_name\n",
      "ORDER BY total_quantity_sold DESC\n",
      "LIMIT 10;\n",
      "</sql>\n"
     ]
    }
   ],
   "source": [
    "query = \"what are best performing sales products in total?\"\n",
    "\n",
    "result = await kernel.invoke(descriptorFunction, sk.KernelArguments(data_schema=data_schema, query= query))\n",
    "print(result)"
   ]
  },
  {
   "cell_type": "code",
   "execution_count": 7,
   "metadata": {},
   "outputs": [],
   "source": [
    "import re\n",
    "\n",
    "def parse_text_between_tags(text, start_tag, end_tag):\n",
    "    pattern = rf\"{re.escape(start_tag)}(.*?){re.escape(end_tag)}\"\n",
    "    matches = re.findall(pattern, text, re.DOTALL)\n",
    "    return matches\n"
   ]
  },
  {
   "cell_type": "code",
   "execution_count": 8,
   "metadata": {},
   "outputs": [
    {
     "name": "stdout",
     "output_type": "stream",
     "text": [
      "\n",
      "SELECT p.product_name, SUM(oi.quantity) AS total_quantity_sold\n",
      "FROM order_items oi\n",
      "JOIN products p ON oi.product_id = p.product_id\n",
      "JOIN orders o ON oi.order_id = o.order_id\n",
      "WHERE strftime('%Y', o.order_date) = '2024'\n",
      "GROUP BY p.product_name\n",
      "ORDER BY total_quantity_sold DESC\n",
      "LIMIT 10;\n",
      "\n"
     ]
    }
   ],
   "source": [
    "# Extract the string data from the result object\n",
    "result_string = result.data if hasattr(result, 'data') else str(result)\n",
    "\n",
    "matches = parse_text_between_tags(result_string,\"<sql>\", \"</sql>\")\n",
    "print(matches[0])"
   ]
  },
  {
   "cell_type": "code",
   "execution_count": 9,
   "metadata": {},
   "outputs": [],
   "source": [
    "import sqlite3\n",
    "import pandas as pd\n",
    "import os\n",
    "\n",
    "def run_sql_query( query):\n",
    "    db_conn = os.getenv(\"DB_CONNECTION_STRING\")\n",
    "    print(db_conn)\n",
    "    conn = sqlite3.connect(\"BikeStore.db\")\n",
    "    df = pd.read_sql_query(query, conn)\n",
    "    conn.close()\n",
    "    return df\n"
   ]
  },
  {
   "cell_type": "code",
   "execution_count": 10,
   "metadata": {},
   "outputs": [
    {
     "name": "stdout",
     "output_type": "stream",
     "text": [
      "BikeStore.db\n"
     ]
    },
    {
     "data": {
      "text/html": [
       "<div>\n",
       "<style scoped>\n",
       "    .dataframe tbody tr th:only-of-type {\n",
       "        vertical-align: middle;\n",
       "    }\n",
       "\n",
       "    .dataframe tbody tr th {\n",
       "        vertical-align: top;\n",
       "    }\n",
       "\n",
       "    .dataframe thead th {\n",
       "        text-align: right;\n",
       "    }\n",
       "</style>\n",
       "<table border=\"1\" class=\"dataframe\">\n",
       "  <thead>\n",
       "    <tr style=\"text-align: right;\">\n",
       "      <th></th>\n",
       "      <th>product_name</th>\n",
       "      <th>total_quantity_sold</th>\n",
       "    </tr>\n",
       "  </thead>\n",
       "  <tbody>\n",
       "  </tbody>\n",
       "</table>\n",
       "</div>"
      ],
      "text/plain": [
       "Empty DataFrame\n",
       "Columns: [product_name, total_quantity_sold]\n",
       "Index: []"
      ]
     },
     "execution_count": 10,
     "metadata": {},
     "output_type": "execute_result"
    }
   ],
   "source": [
    "df = run_sql_query(matches[0])\n",
    "df.head()"
   ]
  },
  {
   "cell_type": "code",
   "execution_count": 12,
   "metadata": {},
   "outputs": [
    {
     "name": "stderr",
     "output_type": "stream",
     "text": [
      "Variable `Symbols.VAR_PREFIX: save_plot_to_disk` not found in the KernelArguments\n"
     ]
    },
    {
     "name": "stdout",
     "output_type": "stream",
     "text": [
      "```sql\n",
      "<sql>\n",
      "SELECT p.product_name, SUM(oi.quantity * oi.list_price * (1 - oi.discount)) AS total_sales\n",
      "FROM order_items oi\n",
      "JOIN products p ON oi.product_id = p.product_id\n",
      "GROUP BY p.product_name\n",
      "ORDER BY total_sales DESC\n",
      "LIMIT 10;\n",
      "</sql>\n",
      "```\n",
      "\n",
      "```python\n",
      "<python>\n",
      "import pandas as pd\n",
      "import matplotlib.pyplot as plt\n",
      "\n",
      "# Assuming df is already defined and contains the data from the SQL query\n",
      "df = pd.DataFrame({\n",
      "    'product_name': ['Product A', 'Product B', 'Product C'],  # Example data\n",
      "    'total_sales': [1000, 1500, 2000]  # Example data\n",
      "})\n",
      "\n",
      "plt.figure(figsize=(10, 6))\n",
      "plt.bar(df['product_name'], df['total_sales'], color='skyblue')\n",
      "plt.xlabel('Product Name')\n",
      "plt.ylabel('Total Sales')\n",
      "plt.title('Top 10 Best Performing Sales Products')\n",
      "plt.xticks(rotation=45)\n",
      "plt.tight_layout()\n",
      "plt.show()\n",
      "</python>\n",
      "```\n"
     ]
    }
   ],
   "source": [
    "query =\"what are best performing sales products in total?\"\n",
    "\n",
    "result = await kernel.invoke(descriptorFunction, sk.KernelArguments(data_schema=data_schema, query= query))\n",
    "print(result)"
   ]
  }
 ],
 "metadata": {
  "kernelspec": {
   "display_name": "Python 3",
   "language": "python",
   "name": "python3"
  },
  "language_info": {
   "codemirror_mode": {
    "name": "ipython",
    "version": 3
   },
   "file_extension": ".py",
   "mimetype": "text/x-python",
   "name": "python",
   "nbconvert_exporter": "python",
   "pygments_lexer": "ipython3",
   "version": "3.12.0"
  },
  "polyglot_notebook": {
   "kernelInfo": {
    "defaultKernelName": "csharp",
    "items": [
     {
      "aliases": [],
      "name": "csharp"
     }
    ]
   }
  }
 },
 "nbformat": 4,
 "nbformat_minor": 2
}
