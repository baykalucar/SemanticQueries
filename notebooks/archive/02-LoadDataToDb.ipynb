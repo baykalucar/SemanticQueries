{
 "cells": [
  {
   "cell_type": "code",
   "execution_count": 1,
   "metadata": {},
   "outputs": [],
   "source": [
    "import pandas\n",
    "import os\n",
    "import glob\n",
    "import sqlite3\n",
    "# Read the directory path from the .env file\n",
    "directory_path = os.getenv(\"CSV_DIRECTORY_PATH\")\n",
    "db_conn = os.getenv(\"DB_CONNECTION_STRING\")\n",
    "\n",
    "# Get all CSV files in the directory\n",
    "csv_files = glob.glob(os.path.join(directory_path, \"*.csv\"))\n",
    "\n",
    "# Create an SQLite connection to BikeStore.db\n",
    "conn = sqlite3.connect(\"BikeStore.db\")\n",
    "\n",
    "# Iterate through each CSV file\n",
    "for csvfile in csv_files:\n",
    "    # Your code to process each CSV file goes here\n",
    "    df = pandas.read_csv(csvfile)\n",
    "    table_name = os.path.splitext(os.path.basename(csvfile))[0]\n",
    "    df.to_sql(table_name, conn, if_exists='append', index=False)\n"
   ]
  }
 ],
 "metadata": {
  "kernelspec": {
   "display_name": "Python 3",
   "language": "python",
   "name": "python3"
  },
  "language_info": {
   "codemirror_mode": {
    "name": "ipython",
    "version": 3
   },
   "file_extension": ".py",
   "mimetype": "text/x-python",
   "name": "python",
   "nbconvert_exporter": "python",
   "pygments_lexer": "ipython3",
   "version": "3.12.0"
  }
 },
 "nbformat": 4,
 "nbformat_minor": 2
}
