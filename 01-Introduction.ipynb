{
 "cells": [
  {
   "cell_type": "code",
   "execution_count": null,
   "metadata": {},
   "outputs": [],
   "source": [
    "!python -m pip install semantic-kernel==0.9.4b1"
   ]
  },
  {
   "cell_type": "code",
   "execution_count": 2,
   "metadata": {},
   "outputs": [],
   "source": [
    "import semantic_kernel as sk\n",
    "\n",
    "kernel = sk.Kernel()"
   ]
  },
  {
   "cell_type": "code",
   "execution_count": 3,
   "metadata": {},
   "outputs": [],
   "source": [
    "from services import Service\n",
    "\n",
    "# Select a service to use for this notebook (available services: OpenAI, AzureOpenAI, HuggingFace)\n",
    "selectedService = Service.AzureOpenAI"
   ]
  },
  {
   "cell_type": "code",
   "execution_count": 4,
   "metadata": {},
   "outputs": [],
   "source": [
    "kernel = sk.Kernel()\n",
    "\n",
    "service_id = None\n",
    "if selectedService == Service.OpenAI:\n",
    "    from semantic_kernel.connectors.ai.open_ai import OpenAIChatCompletion\n",
    "\n",
    "    api_key, org_id = sk.openai_settings_from_dot_env()\n",
    "    service_id = \"gpt4-32k\"\n",
    "    kernel.add_service(\n",
    "        OpenAIChatCompletion(service_id=service_id, ai_model_id=\"gpt4-32k\", api_key=api_key, org_id=org_id),\n",
    "    )\n",
    "elif selectedService == Service.AzureOpenAI:\n",
    "    from semantic_kernel.connectors.ai.open_ai import AzureChatCompletion\n",
    "\n",
    "    deployment, api_key, endpoint = sk.azure_openai_settings_from_dot_env()\n",
    "    service_id = \"aoai_chat_completion\"\n",
    "    kernel.add_service(\n",
    "        AzureChatCompletion(service_id=service_id, deployment_name=deployment, endpoint=endpoint, api_key=api_key),\n",
    "    )"
   ]
  },
  {
   "cell_type": "code",
   "execution_count": 5,
   "metadata": {},
   "outputs": [],
   "source": [
    "# note: using plugins from the samples folder\n",
    "plugins_directory = \"plugins\"\n",
    "\n",
    "dataFunctions = kernel.import_plugin_from_prompt_directory(plugins_directory, \"DataPlugin\")\n",
    "\n",
    "descriptorFunction = dataFunctions[\"DatabaseDescriptor\"]"
   ]
  },
  {
   "cell_type": "code",
   "execution_count": 6,
   "metadata": {},
   "outputs": [],
   "source": [
    "def read_data_schema_from_file(file_path):\n",
    "    with open(file_path, 'r') as file:\n",
    "        data_schema = file.read()\n",
    "    return data_schema\n",
    "\n",
    "file_path = \"data_schema.txt\"\n",
    "data_schema = read_data_schema_from_file(file_path)\n"
   ]
  },
  {
   "cell_type": "code",
   "execution_count": 7,
   "metadata": {},
   "outputs": [
    {
     "name": "stderr",
     "output_type": "stream",
     "text": [
      "Error parsing XML of prompt: not well-formed (invalid token): line 339, column 98\n"
     ]
    },
    {
     "name": "stdout",
     "output_type": "stream",
     "text": [
      "<sql>\n",
      "SELECT p.product_id, p.product_name, SUM(oi.quantity) as total_quantity\n",
      "FROM products p\n",
      "JOIN order_items oi ON p.product_id = oi.product_id\n",
      "JOIN orders o ON oi.order_id = o.order_id\n",
      "WHERE o.order_date BETWEEN '2024-01-01' AND '2024-12-31'\n",
      "GROUP BY p.product_id, p.product_name\n",
      "ORDER BY total_quantity DESC\n",
      "LIMIT 10;\n",
      "</sql>\n"
     ]
    }
   ],
   "source": [
    "query = \"what are the best performance products in 2024?\"\n",
    "\n",
    "result = await kernel.invoke(descriptorFunction, sk.KernelArguments(data_schema=data_schema, query= query))\n",
    "print(result)"
   ]
  },
  {
   "cell_type": "code",
   "execution_count": 8,
   "metadata": {},
   "outputs": [],
   "source": [
    "import re\n",
    "\n",
    "def parse_text_between_tags(text, start_tag, end_tag):\n",
    "    pattern = rf\"{re.escape(start_tag)}(.*?){re.escape(end_tag)}\"\n",
    "    matches = re.findall(pattern, text, re.DOTALL)\n",
    "    return matches\n"
   ]
  },
  {
   "cell_type": "code",
   "execution_count": 9,
   "metadata": {},
   "outputs": [
    {
     "name": "stdout",
     "output_type": "stream",
     "text": [
      "\n",
      "SELECT p.product_id, p.product_name, SUM(oi.quantity) as total_quantity\n",
      "FROM products p\n",
      "JOIN order_items oi ON p.product_id = oi.product_id\n",
      "JOIN orders o ON oi.order_id = o.order_id\n",
      "WHERE o.order_date BETWEEN '2024-01-01' AND '2024-12-31'\n",
      "GROUP BY p.product_id, p.product_name\n",
      "ORDER BY total_quantity DESC\n",
      "LIMIT 10;\n",
      "\n"
     ]
    }
   ],
   "source": [
    "# Extract the string data from the result object\n",
    "result_string = result.data if hasattr(result, 'data') else str(result)\n",
    "\n",
    "matches = parse_text_between_tags(result_string,\"<sql>\", \"</sql>\")\n",
    "print(matches[0])"
   ]
  },
  {
   "cell_type": "code",
   "execution_count": 10,
   "metadata": {},
   "outputs": [],
   "source": [
    "import sqlite3\n",
    "import pandas as pd\n",
    "import os\n",
    "\n",
    "def run_sql_query( query):\n",
    "    db_conn = os.getenv(\"DB_CONNECTION_STRING\")\n",
    "    print(db_conn)\n",
    "    conn = sqlite3.connect(\"BikeStore.db\")\n",
    "    df = pd.read_sql_query(query, conn)\n",
    "    conn.close()\n",
    "    return df\n"
   ]
  },
  {
   "cell_type": "code",
   "execution_count": 11,
   "metadata": {},
   "outputs": [
    {
     "name": "stdout",
     "output_type": "stream",
     "text": [
      "BikeStore.db\n"
     ]
    },
    {
     "data": {
      "text/html": [
       "<div>\n",
       "<style scoped>\n",
       "    .dataframe tbody tr th:only-of-type {\n",
       "        vertical-align: middle;\n",
       "    }\n",
       "\n",
       "    .dataframe tbody tr th {\n",
       "        vertical-align: top;\n",
       "    }\n",
       "\n",
       "    .dataframe thead th {\n",
       "        text-align: right;\n",
       "    }\n",
       "</style>\n",
       "<table border=\"1\" class=\"dataframe\">\n",
       "  <thead>\n",
       "    <tr style=\"text-align: right;\">\n",
       "      <th></th>\n",
       "      <th>product_id</th>\n",
       "      <th>product_name</th>\n",
       "      <th>total_quantity</th>\n",
       "    </tr>\n",
       "  </thead>\n",
       "  <tbody>\n",
       "  </tbody>\n",
       "</table>\n",
       "</div>"
      ],
      "text/plain": [
       "Empty DataFrame\n",
       "Columns: [product_id, product_name, total_quantity]\n",
       "Index: []"
      ]
     },
     "execution_count": 11,
     "metadata": {},
     "output_type": "execute_result"
    }
   ],
   "source": [
    "df = run_sql_query(matches[0])\n",
    "df.head()"
   ]
  },
  {
   "cell_type": "code",
   "execution_count": 12,
   "metadata": {},
   "outputs": [
    {
     "name": "stderr",
     "output_type": "stream",
     "text": [
      "Error parsing XML of prompt: not well-formed (invalid token): line 339, column 98\n"
     ]
    },
    {
     "name": "stdout",
     "output_type": "stream",
     "text": [
      "<sql>\n",
      "SELECT p.product_name, o.order_date, oi.quantity\n",
      "FROM products p\n",
      "JOIN order_items oi ON p.product_id = oi.product_id\n",
      "JOIN orders o ON oi.order_id = o.order_id\n",
      "WHERE p.product_name = 'Surly Straggler'\n",
      "</sql>\n",
      "\n",
      "<python>\n",
      "import matplotlib.pyplot as plt\n",
      "import pandas as pd\n",
      "\n",
      "# Assuming df is the result of the above SQL query\n",
      "df['order_date'] = pd.to_datetime(df['order_date'])\n",
      "df.set_index('order_date', inplace=True)\n",
      "df.resample('Y').sum()['quantity'].plot(kind='line')\n",
      "\n",
      "plt.title('Sales of Surly Straggler Over Years')\n",
      "plt.xlabel('Year')\n",
      "plt.ylabel('Quantity Sold')\n",
      "plt.show()\n",
      "</python>\n"
     ]
    }
   ],
   "source": [
    "query =\"display graph of product with name 'Surly Straggler' sales graph in years\"\n",
    "\n",
    "result = await kernel.invoke(descriptorFunction, sk.KernelArguments(data_schema=data_schema, query= query))\n",
    "print(result)"
   ]
  }
 ],
 "metadata": {
  "kernelspec": {
   "display_name": "Python 3",
   "language": "python",
   "name": "python3"
  },
  "language_info": {
   "codemirror_mode": {
    "name": "ipython",
    "version": 3
   },
   "file_extension": ".py",
   "mimetype": "text/x-python",
   "name": "python",
   "nbconvert_exporter": "python",
   "pygments_lexer": "ipython3",
   "version": "3.12.0"
  },
  "polyglot_notebook": {
   "kernelInfo": {
    "defaultKernelName": "csharp",
    "items": [
     {
      "aliases": [],
      "name": "csharp"
     }
    ]
   }
  }
 },
 "nbformat": 4,
 "nbformat_minor": 2
}
