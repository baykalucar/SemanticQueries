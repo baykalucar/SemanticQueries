{
 "cells": [
  {
   "cell_type": "code",
   "execution_count": 7,
   "metadata": {},
   "outputs": [],
   "source": [
    "import semantic_kernel as sk\n",
    "from semantic_kernel.connectors.ai.hugging_face import HuggingFaceTextCompletion\n",
    "\n",
    "\n",
    "kernel = sk.Kernel()\n",
    "# hf_model = HuggingFaceTextCompletion(service_id=\"hf_text_completion\", ai_model_id=\"meta-llama/Meta-Llama-3-8B-Instruct\", task=\"text-generation\" )\n",
    "hf_model = HuggingFaceTextCompletion(service_id=\"hf_text_completion\", ai_model_id=\"facebook/opt-350m\", task=\"text-generation\")\n",
    "kernel.add_service(hf_model)"
   ]
  },
  {
   "cell_type": "code",
   "execution_count": 8,
   "metadata": {},
   "outputs": [],
   "source": [
    "target_service_id = \"hf_text_completion\"\n",
    "\n",
    "execution_config = kernel.get_service(target_service_id).instantiate_prompt_execution_settings(\n",
    "        service_id=target_service_id,\n",
    "        max_tokens=100,\n",
    "        temperature=0,\n",
    "        seed=42\n",
    "    )"
   ]
  },
  {
   "cell_type": "code",
   "execution_count": 9,
   "metadata": {},
   "outputs": [
    {
     "name": "stdout",
     "output_type": "stream",
     "text": [
      "\n",
      "Banana is the capital city of\n",
      "Bali, about 130 miles from Jakarta. The main\n"
     ]
    }
   ],
   "source": [
    "prompt = \"\"\"\n",
    "{{$input}} is the capital city of\n",
    "\"\"\"\n",
    "\n",
    "hf_complete = kernel.create_function_from_prompt(\n",
    "    prompt=prompt,\n",
    "    plugin_name=\"Generate_Capital_City_Completion\",\n",
    "    function_name=\"generate_city_completion_opt\",\n",
    "    execution_settings=execution_config\n",
    ")\n",
    "response = await kernel.invoke(hf_complete, input='Banana')\n",
    "\n",
    "print(response)"
   ]
  },
  {
   "cell_type": "code",
   "execution_count": null,
   "metadata": {},
   "outputs": [],
   "source": []
  }
 ],
 "metadata": {
  "kernelspec": {
   "display_name": "Python 3",
   "language": "python",
   "name": "python3"
  },
  "language_info": {
   "codemirror_mode": {
    "name": "ipython",
    "version": 3
   },
   "file_extension": ".py",
   "mimetype": "text/x-python",
   "name": "python",
   "nbconvert_exporter": "python",
   "pygments_lexer": "ipython3",
   "version": "3.12.0"
  }
 },
 "nbformat": 4,
 "nbformat_minor": 2
}
